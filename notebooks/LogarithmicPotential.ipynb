{
 "cells": [
  {
   "cell_type": "code",
   "execution_count": 1,
   "metadata": {
    "collapsed": true
   },
   "outputs": [],
   "source": [
    "%matplotlib inline\n",
    "%config IPython.matplotlib.backend = \"retina\"\n",
    "from matplotlib import rcParams\n",
    "rcParams[\"savefig.dpi\"] = 150\n",
    "rcParams[\"figure.dpi\"] = 150\n",
    "import numpy as np\n",
    "import matplotlib.pylab as plt"
   ]
  },
  {
   "cell_type": "code",
   "execution_count": 5,
   "metadata": {
    "collapsed": true
   },
   "outputs": [],
   "source": [
    "# Working in SI units, because I'm an idiot.\n",
    "kmps = 1.e3 # km/s in m/s\n",
    "Vsquared = 220. * 220. * kmps * kmps # (220 km/s)^2 in (m / s)^2\n",
    "def potential(position, amplitude=Vsquared):\n",
    "    assert position.shape == (3, )\n",
    "    r = np.sum(position * position)\n",
    "    return amplitude * np.log(r)\n",
    "def acceleration(position, amplitude=Vsquared):\n",
    "    assert position.shape == (3, )\n",
    "    r = np.sum(position * position)\n",
    "    return -1. * amplitude * position / (r * r)"
   ]
  },
  {
   "cell_type": "code",
   "execution_count": 6,
   "metadata": {
    "collapsed": true
   },
   "outputs": [],
   "source": [
    "# Some time and length conventions\n",
    "yr = 3.154e7 # 1 yr in s\n",
    "tmax = 1.e9 * yr # 1 Gyr in s ; total integration time per orbit\n",
    "deltat = 1.e7 * yr # 0.01 Gyr in s ; default integration step size\n",
    "pc = 3.0857e16 # 1 pc in m"
   ]
  },
  {
   "cell_type": "code",
   "execution_count": 7,
   "metadata": {
    "collapsed": false
   },
   "outputs": [
    {
     "name": "stdout",
     "output_type": "stream",
     "text": [
      "[ -4.44459786e+17  -2.52627062e+18   4.91882512e+18] [ 143877.26337901 -107201.98145796  -91567.93321185]\n"
     ]
    }
   ],
   "source": [
    "velocity = 100. * kmps * np.random.normal(size=3)\n",
    "position = 100. * pc * np.random.normal(size=3)\n",
    "print(position, velocity)"
   ]
  },
  {
   "cell_type": "code",
   "execution_count": null,
   "metadata": {
    "collapsed": true
   },
   "outputs": [],
   "source": [
    "def integrate(x, v, amplitude=Vsquared, stepsize=deltat, duration=tmax):\n",
    "    xn = 1. * x\n",
    "    vnhalf = 1. * v + 0.5 * stepsize * acceleration(x, amplitude=amplitude)\n",
    "    nsteps = int(tmax / deltat)\n",
    "    xs = np.zeros(nsteps)\n",
    "    ys = np.zeros(nsteps)\n",
    "    for n in range(nsteps):\n",
    "        xs[n] = xn\n",
    "        vs[n] = whatever!"
   ]
  },
  {
   "cell_type": "code",
   "execution_count": null,
   "metadata": {
    "collapsed": true
   },
   "outputs": [],
   "source": [
    "xs, vs = integrate(position, velocity)"
   ]
  }
 ],
 "metadata": {
  "kernelspec": {
   "display_name": "Python 3",
   "language": "python",
   "name": "python3"
  },
  "language_info": {
   "codemirror_mode": {
    "name": "ipython",
    "version": 3
   },
   "file_extension": ".py",
   "mimetype": "text/x-python",
   "name": "python",
   "nbconvert_exporter": "python",
   "pygments_lexer": "ipython3",
   "version": "3.6.0"
  }
 },
 "nbformat": 4,
 "nbformat_minor": 2
}
